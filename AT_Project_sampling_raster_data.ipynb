{
 "cells": [
  {
   "cell_type": "markdown",
   "id": "26885fa0-796b-409c-b438-6e378ca1f30f",
   "metadata": {},
   "source": [
    "# Sampling Raster Data using Points or Polygons \n",
    "\n",
    "## Task\n",
    "Given a raster grid of daily maximum temperature in the continental US:\n",
    "   - extract the temperature at a point layer of all urban areas \n",
    "   - calculate the average temperature for a polygon layer of each county in the US.\n",
    "   \n",
    "   "
   ]
  },
  {
   "cell_type": "code",
   "execution_count": 31,
   "id": "91c8787b-b5a8-4184-bb2c-ed97be0a0023",
   "metadata": {},
   "outputs": [
    {
     "name": "stdout",
     "output_type": "stream",
     "text": [
      "data/gpkg/us_country_data.gpkg\n"
     ]
    }
   ],
   "source": [
    "# Create relative path\n",
    "\n",
    "import os\n",
    "import pandas as pd\n",
    "import geopandas as gpd\n",
    "import numpy as np\n",
    "import rasterio  \n",
    "from rasterstats import zonal_stats\n",
    "\n",
    "data_pkg_path = 'data/gpkg'\n",
    "filename = 'us_country_data.gpkg'\n",
    "path = os.path.join(data_pkg_path, filename)\n",
    "print(path)"
   ]
  },
  {
   "cell_type": "code",
   "execution_count": 32,
   "id": "41cd8f13-0d4c-4548-87ae-85b58e2b830e",
   "metadata": {},
   "outputs": [
    {
     "name": "stdout",
     "output_type": "stream",
     "text": [
      "<class 'geopandas.geodataframe.GeoDataFrame'>\n",
      "RangeIndex: 3601 entries, 0 to 3600\n",
      "Data columns (total 10 columns):\n",
      " #   Column      Non-Null Count  Dtype   \n",
      "---  ------      --------------  -----   \n",
      " 0   GEOID       3601 non-null   int64   \n",
      " 1   NAME        3601 non-null   object  \n",
      " 2   UATYPE      3601 non-null   object  \n",
      " 3   ALAND       3601 non-null   float64 \n",
      " 4   AWATER      3601 non-null   int64   \n",
      " 5   ALAND_SQMI  3601 non-null   float64 \n",
      " 6   AWATER_SQM  3601 non-null   float64 \n",
      " 7   INTPTLAT    3601 non-null   float64 \n",
      " 8   INTPTLONG   3601 non-null   float64 \n",
      " 9   geometry    3601 non-null   geometry\n",
      "dtypes: float64(5), geometry(1), int64(2), object(2)\n",
      "memory usage: 281.5+ KB\n",
      "<class 'geopandas.geodataframe.GeoDataFrame'>\n",
      "RangeIndex: 3233 entries, 0 to 3232\n",
      "Data columns (total 18 columns):\n",
      " #   Column    Non-Null Count  Dtype   \n",
      "---  ------    --------------  -----   \n",
      " 0   STATEFP   3233 non-null   object  \n",
      " 1   COUNTYFP  3233 non-null   object  \n",
      " 2   COUNTYNS  3233 non-null   object  \n",
      " 3   GEOID     3233 non-null   object  \n",
      " 4   NAME      3233 non-null   object  \n",
      " 5   NAMELSAD  3233 non-null   object  \n",
      " 6   LSAD      3233 non-null   object  \n",
      " 7   CLASSFP   3233 non-null   object  \n",
      " 8   MTFCC     3233 non-null   object  \n",
      " 9   CSAFP     1231 non-null   object  \n",
      " 10  CBSAFP    1899 non-null   object  \n",
      " 11  METDIVFP  113 non-null    object  \n",
      " 12  FUNCSTAT  3233 non-null   object  \n",
      " 13  ALAND     3233 non-null   int64   \n",
      " 14  AWATER    3233 non-null   int64   \n",
      " 15  INTPTLAT  3233 non-null   object  \n",
      " 16  INTPTLON  3233 non-null   object  \n",
      " 17  geometry  3233 non-null   geometry\n",
      "dtypes: geometry(1), int64(2), object(15)\n",
      "memory usage: 454.8+ KB\n",
      "None None\n"
     ]
    },
    {
     "data": {
      "text/html": [
       "<div>\n",
       "<style scoped>\n",
       "    .dataframe tbody tr th:only-of-type {\n",
       "        vertical-align: middle;\n",
       "    }\n",
       "\n",
       "    .dataframe tbody tr th {\n",
       "        vertical-align: top;\n",
       "    }\n",
       "\n",
       "    .dataframe thead th {\n",
       "        text-align: right;\n",
       "    }\n",
       "</style>\n",
       "<table border=\"1\" class=\"dataframe\">\n",
       "  <thead>\n",
       "    <tr style=\"text-align: right;\">\n",
       "      <th></th>\n",
       "      <th>GEOID</th>\n",
       "      <th>NAME</th>\n",
       "      <th>UATYPE</th>\n",
       "      <th>ALAND</th>\n",
       "      <th>AWATER</th>\n",
       "      <th>ALAND_SQMI</th>\n",
       "      <th>AWATER_SQM</th>\n",
       "      <th>INTPTLAT</th>\n",
       "      <th>INTPTLONG</th>\n",
       "      <th>geometry</th>\n",
       "    </tr>\n",
       "  </thead>\n",
       "  <tbody>\n",
       "    <tr>\n",
       "      <th>0</th>\n",
       "      <td>37</td>\n",
       "      <td>Abbeville, LA Urban Cluster</td>\n",
       "      <td>C</td>\n",
       "      <td>29189594.0</td>\n",
       "      <td>298416</td>\n",
       "      <td>11.270</td>\n",
       "      <td>0.115</td>\n",
       "      <td>29.967156</td>\n",
       "      <td>-92.095966</td>\n",
       "      <td>POINT (-92.09597 29.96716)</td>\n",
       "    </tr>\n",
       "    <tr>\n",
       "      <th>1</th>\n",
       "      <td>64</td>\n",
       "      <td>Abbeville, SC Urban Cluster</td>\n",
       "      <td>C</td>\n",
       "      <td>11271121.0</td>\n",
       "      <td>19786</td>\n",
       "      <td>4.352</td>\n",
       "      <td>0.008</td>\n",
       "      <td>34.179273</td>\n",
       "      <td>-82.379776</td>\n",
       "      <td>POINT (-82.37978 34.17927)</td>\n",
       "    </tr>\n",
       "    <tr>\n",
       "      <th>2</th>\n",
       "      <td>91</td>\n",
       "      <td>Abbotsford, WI Urban Cluster</td>\n",
       "      <td>C</td>\n",
       "      <td>5394605.0</td>\n",
       "      <td>13221</td>\n",
       "      <td>2.083</td>\n",
       "      <td>0.005</td>\n",
       "      <td>44.948612</td>\n",
       "      <td>-90.315875</td>\n",
       "      <td>POINT (-90.31588 44.94861)</td>\n",
       "    </tr>\n",
       "    <tr>\n",
       "      <th>3</th>\n",
       "      <td>118</td>\n",
       "      <td>Aberdeen, MS Urban Cluster</td>\n",
       "      <td>C</td>\n",
       "      <td>7416339.0</td>\n",
       "      <td>52820</td>\n",
       "      <td>2.863</td>\n",
       "      <td>0.020</td>\n",
       "      <td>33.824742</td>\n",
       "      <td>-88.554591</td>\n",
       "      <td>POINT (-88.55459 33.82474)</td>\n",
       "    </tr>\n",
       "    <tr>\n",
       "      <th>4</th>\n",
       "      <td>145</td>\n",
       "      <td>Aberdeen, SD Urban Cluster</td>\n",
       "      <td>C</td>\n",
       "      <td>33035011.0</td>\n",
       "      <td>120864</td>\n",
       "      <td>12.755</td>\n",
       "      <td>0.047</td>\n",
       "      <td>45.463186</td>\n",
       "      <td>-98.471033</td>\n",
       "      <td>POINT (-98.47103 45.46319)</td>\n",
       "    </tr>\n",
       "  </tbody>\n",
       "</table>\n",
       "</div>"
      ],
      "text/plain": [
       "   GEOID                          NAME UATYPE       ALAND  AWATER  ALAND_SQMI  \\\n",
       "0     37   Abbeville, LA Urban Cluster      C  29189594.0  298416      11.270   \n",
       "1     64   Abbeville, SC Urban Cluster      C  11271121.0   19786       4.352   \n",
       "2     91  Abbotsford, WI Urban Cluster      C   5394605.0   13221       2.083   \n",
       "3    118    Aberdeen, MS Urban Cluster      C   7416339.0   52820       2.863   \n",
       "4    145    Aberdeen, SD Urban Cluster      C  33035011.0  120864      12.755   \n",
       "\n",
       "   AWATER_SQM   INTPTLAT  INTPTLONG                    geometry  \n",
       "0       0.115  29.967156 -92.095966  POINT (-92.09597 29.96716)  \n",
       "1       0.008  34.179273 -82.379776  POINT (-82.37978 34.17927)  \n",
       "2       0.005  44.948612 -90.315875  POINT (-90.31588 44.94861)  \n",
       "3       0.020  33.824742 -88.554591  POINT (-88.55459 33.82474)  \n",
       "4       0.047  45.463186 -98.471033  POINT (-98.47103 45.46319)  "
      ]
     },
     "execution_count": 32,
     "metadata": {},
     "output_type": "execute_result"
    }
   ],
   "source": [
    "# Read Files\n",
    "\n",
    "urban_areas = gpd.read_file(path, layer='2018_Gaz_ua_national')\n",
    "census_tracts = gpd.read_file(path, layer = 'tl_2018_us_county')\n",
    "print(urban_areas.info(), census_tracts.info())\n",
    "urban_areas.head()"
   ]
  },
  {
   "cell_type": "code",
   "execution_count": 33,
   "id": "20f7432d-1002-4263-b244-631c751236c3",
   "metadata": {},
   "outputs": [
    {
     "name": "stdout",
     "output_type": "stream",
     "text": [
      "data/raster/us.tmax_nohads_ll_20220717_float.tif\n"
     ]
    }
   ],
   "source": [
    "# Create relative path for raster data\n",
    "\n",
    "data_rast_path = 'data/raster'\n",
    "rast_filename = 'us.tmax_nohads_ll_20220717_float.tif'\n",
    "rast_path = os.path.join(data_rast_path, rast_filename)\n",
    "print(rast_path)"
   ]
  },
  {
   "cell_type": "code",
   "execution_count": 34,
   "id": "74a55672-9c39-481a-b464-dd7ff114af94",
   "metadata": {},
   "outputs": [
    {
     "data": {
      "text/plain": [
       "{'driver': 'GTiff',\n",
       " 'dtype': 'float32',\n",
       " 'nodata': None,\n",
       " 'width': 141,\n",
       " 'height': 71,\n",
       " 'count': 1,\n",
       " 'crs': CRS.from_epsg(4326),\n",
       " 'transform': Affine(0.5, 0.0, -130.25,\n",
       "        0.0, -0.5, 55.25)}"
      ]
     },
     "execution_count": 34,
     "metadata": {},
     "output_type": "execute_result"
    }
   ],
   "source": [
    "# Read raster data and show metadata\n",
    "\n",
    "us_tmax = rasterio.open(rast_path)\n",
    "metadata = us_tmax.meta\n",
    "metadata"
   ]
  },
  {
   "cell_type": "code",
   "execution_count": 35,
   "id": "076714b0-edac-48d2-8573-f3058a129262",
   "metadata": {},
   "outputs": [
    {
     "name": "stdout",
     "output_type": "stream",
     "text": [
      "<class 'list'>\n"
     ]
    }
   ],
   "source": [
    "# Extract coordinates values from the point layer\n",
    "coord_list = [(x,y) for x,y in zip(urban_areas['geometry'].x , urban_areas['geometry'].y)]\n",
    "\n",
    "print(type (coord_list))"
   ]
  },
  {
   "cell_type": "markdown",
   "id": "1d287ca8-2279-4695-86ad-74a32303d31c",
   "metadata": {},
   "source": [
    "# Sample raster data using points\n",
    "\n",
    "we use the `rasterio` library (`.sample()`)"
   ]
  },
  {
   "cell_type": "code",
   "execution_count": 36,
   "id": "46635885-a60d-47f0-9d0c-77fcfca6bfb7",
   "metadata": {},
   "outputs": [
    {
     "name": "stdout",
     "output_type": "stream",
     "text": [
      "<class 'geopandas.geodataframe.GeoDataFrame'>\n",
      "RangeIndex: 3601 entries, 0 to 3600\n",
      "Data columns (total 11 columns):\n",
      " #   Column      Non-Null Count  Dtype   \n",
      "---  ------      --------------  -----   \n",
      " 0   GEOID       3601 non-null   int64   \n",
      " 1   NAME        3601 non-null   object  \n",
      " 2   UATYPE      3601 non-null   object  \n",
      " 3   ALAND       3601 non-null   float64 \n",
      " 4   AWATER      3601 non-null   int64   \n",
      " 5   ALAND_SQMI  3601 non-null   float64 \n",
      " 6   AWATER_SQM  3601 non-null   float64 \n",
      " 7   INTPTLAT    3601 non-null   float64 \n",
      " 8   INTPTLONG   3601 non-null   float64 \n",
      " 9   geometry    3601 non-null   geometry\n",
      " 10  tmax        3601 non-null   float64 \n",
      "dtypes: float64(6), geometry(1), int64(2), object(2)\n",
      "memory usage: 309.6+ KB\n",
      "None\n"
     ]
    }
   ],
   "source": [
    "urban_areas['tmax'] = [x for x in us_tmax.sample(coord_list)]\n",
    "\n",
    "# convert tmax col type from list to float so that the field is valid for writing with .to_file\n",
    "urban_areas['tmax'] = urban_areas['tmax'].astype('float64')\n",
    "\n",
    "print(urban_areas.info())"
   ]
  },
  {
   "cell_type": "code",
   "execution_count": 37,
   "id": "2aac84f2-7a4a-428c-a3a8-52d6c2be83c7",
   "metadata": {},
   "outputs": [
    {
     "name": "stdout",
     "output_type": "stream",
     "text": [
      "Successfully written output file at output/us_tmp_country_data.gpkg\n"
     ]
    }
   ],
   "source": [
    "output_dir = 'output'\n",
    "output_filename = 'us_tmp_country_data.gpkg'\n",
    "output_path = os.path.join(output_dir, output_filename)\n",
    "\n",
    "urban_areas.to_file(driver='GPKG', filename=output_path, layer = 'urban_areas_t',  encoding='utf-8')\n",
    "print('Successfully written output file at {}'.format(output_path))"
   ]
  },
  {
   "cell_type": "markdown",
   "id": "96ff214c-bd9b-4cca-a73f-f6b23a8cfb11",
   "metadata": {},
   "source": [
    "# Calculate Zonal Statistics (Mean) \n",
    "\n",
    "we use the `rasterstats` library\n",
    "\n",
    "Use `%%capture` to avoid visualising all the warnings about no data (issue with `rasterstats`?)"
   ]
  },
  {
   "cell_type": "code",
   "execution_count": 38,
   "id": "259d3fc2-5c71-4e6f-a0d0-1694c95fb507",
   "metadata": {},
   "outputs": [],
   "source": [
    "%%capture\n",
    "\n",
    "stats = zonal_stats(census_tracts, rast_path, stats = ['mean'])\n",
    "\n",
    "print(stats) # Issue: Too many NULL values, why?"
   ]
  },
  {
   "cell_type": "code",
   "execution_count": 39,
   "id": "af27174e-7728-45b4-a960-e847e8f3ebc9",
   "metadata": {},
   "outputs": [
    {
     "name": "stdout",
     "output_type": "stream",
     "text": [
      "           mean\n",
      "0     30.453856\n",
      "1           NaN\n",
      "2     35.639346\n",
      "3     30.471180\n",
      "4           NaN\n",
      "...         ...\n",
      "3228        NaN\n",
      "3229        NaN\n",
      "3230  34.299095\n",
      "3231  38.142677\n",
      "3232  29.840471\n",
      "\n",
      "[3233 rows x 1 columns]\n"
     ]
    }
   ],
   "source": [
    "# Convert the output dictionary in a pandas dataframe\n",
    "tempstats_df = pd.DataFrame(stats)\n",
    "\n",
    "print(tempstats_df)"
   ]
  },
  {
   "cell_type": "code",
   "execution_count": 40,
   "id": "becfa9be-3574-46d5-b864-ecbbf9ad6448",
   "metadata": {},
   "outputs": [
    {
     "name": "stdout",
     "output_type": "stream",
     "text": [
      "     STATEFP COUNTYFP  COUNTYNS  GEOID       NAME          NAMELSAD LSAD  \\\n",
      "0         31      039  00835841  31039     Cuming     Cuming County   06   \n",
      "1         53      069  01513275  53069  Wahkiakum  Wahkiakum County   06   \n",
      "2         35      011  00933054  35011    De Baca    De Baca County   06   \n",
      "3         31      109  00835876  31109  Lancaster  Lancaster County   06   \n",
      "4         31      129  00835886  31129   Nuckolls   Nuckolls County   06   \n",
      "...      ...      ...       ...    ...        ...               ...  ...   \n",
      "3228      13      123  00351260  13123     Gilmer     Gilmer County   06   \n",
      "3229      27      135  00659513  27135     Roseau     Roseau County   06   \n",
      "3230      28      089  00695768  28089    Madison    Madison County   06   \n",
      "3231      48      227  01383899  48227     Howard     Howard County   06   \n",
      "3232      54      099  01550056  54099      Wayne      Wayne County   06   \n",
      "\n",
      "     CLASSFP  MTFCC CSAFP CBSAFP METDIVFP FUNCSTAT       ALAND    AWATER  \\\n",
      "0         H1  G4020  None   None     None        A  1477652222  10690952   \n",
      "1         H1  G4020  None   None     None        A   680956809  61588406   \n",
      "2         H1  G4020  None   None     None        A  6016819484  29089486   \n",
      "3         H1  G4020   339  30700     None        A  2169287528  22832516   \n",
      "4         H1  G4020  None   None     None        A  1489645187   1718484   \n",
      "...      ...    ...   ...    ...      ...      ...         ...       ...   \n",
      "3228      H1  G4020  None   None     None        A  1103886887  12283371   \n",
      "3229      H1  G4020  None   None     None        A  4329471925  16913419   \n",
      "3230      H1  G4020   298  27140     None        A  1850581711  71295137   \n",
      "3231      H1  G4020  None  13700     None        A  2333039137   8841783   \n",
      "3232      H1  G4020   170  26580     None        A  1310519821  15845009   \n",
      "\n",
      "         INTPTLAT      INTPTLON  \\\n",
      "0     +41.9158651  -096.7885168   \n",
      "1     +46.2946377  -123.4244583   \n",
      "2     +34.3592729  -104.3686961   \n",
      "3     +40.7835474  -096.6886584   \n",
      "4     +40.1764918  -098.0468422   \n",
      "...           ...           ...   \n",
      "3228  +34.6905055  -084.4546244   \n",
      "3229  +48.7610683  -095.8215042   \n",
      "3230  +32.6343703  -090.0341603   \n",
      "3231  +32.3034712  -101.4387720   \n",
      "3232  +38.1436416  -082.4226659   \n",
      "\n",
      "                                               geometry       mean  \n",
      "0     MULTIPOLYGON (((-97.01952 42.00410, -97.01952 ...  30.453856  \n",
      "1     MULTIPOLYGON (((-123.43639 46.23820, -123.4475...        NaN  \n",
      "2     MULTIPOLYGON (((-104.56739 33.99757, -104.5677...  35.639346  \n",
      "3     MULTIPOLYGON (((-96.91075 40.78494, -96.91075 ...  30.471180  \n",
      "4     MULTIPOLYGON (((-98.27367 40.08940, -98.27367 ...        NaN  \n",
      "...                                                 ...        ...  \n",
      "3228  MULTIPOLYGON (((-84.65478 34.66559, -84.65488 ...        NaN  \n",
      "3229  MULTIPOLYGON (((-96.40466 48.80528, -96.40467 ...        NaN  \n",
      "3230  MULTIPOLYGON (((-90.09363 32.70763, -90.09360 ...  34.299095  \n",
      "3231  MULTIPOLYGON (((-101.69227 32.27106, -101.6922...  38.142677  \n",
      "3232  MULTIPOLYGON (((-82.59529 38.36978, -82.59515 ...  29.840471  \n",
      "\n",
      "[3233 rows x 19 columns]\n",
      "Successfully written output file at output/us_tmp_country_data.gpkg\n"
     ]
    }
   ],
   "source": [
    "# use pandas.concat to append the output to the original geodataframe and save to the new geopakcage\n",
    "\n",
    "census_tracts_t = pd.concat([census_tracts, tempstats_df], axis=1)\n",
    "print(testing)\n",
    "\n",
    "# close the raster just in case\n",
    "us_tmax.close()\n",
    "\n",
    "census_tracts_t.to_file(driver='GPKG', filename = output_path, layer = 'census_tracts_t',  encoding='utf-8')\n",
    "print('Successfully written output file at {}'.format(output_path))"
   ]
  },
  {
   "cell_type": "markdown",
   "id": "d36d6ac0-0c4f-4038-8fcb-3e4c5626639c",
   "metadata": {},
   "source": [
    "# Issues\n",
    "\n",
    "- There are too many Null values \n",
    "    - In QGIS, as mentioned [here](https://www.qgistutorials.com/en/docs/3/sampling_raster_data.html) there should be some null values but only slightly more than 100.\n",
    "    - However, using `zonal_stats()` the NULL values are more than 1k. \n",
    "        - related to [this issue](https://github.com/perrygeo/python-rasterstats/issues/105)? not sure."
   ]
  },
  {
   "cell_type": "code",
   "execution_count": null,
   "id": "3a4ee373-b43a-4f74-8d06-0385c2d15969",
   "metadata": {},
   "outputs": [],
   "source": []
  }
 ],
 "metadata": {
  "kernelspec": {
   "display_name": "Python 3 (ipykernel)",
   "language": "python",
   "name": "python3"
  },
  "language_info": {
   "codemirror_mode": {
    "name": "ipython",
    "version": 3
   },
   "file_extension": ".py",
   "mimetype": "text/x-python",
   "name": "python",
   "nbconvert_exporter": "python",
   "pygments_lexer": "ipython3",
   "version": "3.10.5"
  }
 },
 "nbformat": 4,
 "nbformat_minor": 5
}
